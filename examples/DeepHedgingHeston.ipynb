{
  "nbformat": 4,
  "nbformat_minor": 0,
  "metadata": {
    "colab": {
      "name": "DeepHedgingHeston.ipynb",
      "provenance": [],
      "collapsed_sections": [],
      "toc_visible": true
    },
    "kernelspec": {
      "name": "python3",
      "display_name": "Python 3"
    }
  },
  "cells": [
    {
      "cell_type": "markdown",
      "metadata": {
        "id": "Auhdho3HfeP4"
      },
      "source": [
        "### Heston\n",
        "\n",
        "$$ dS_{t}  = \\mu S_{t} dt + \\sqrt{V_{t}} S_{t} dW_{t}$$\n",
        "\n",
        "$$ dV_{t} = k(\\theta - \\bar{V_{t}})dt + \\sigma \\sqrt{V_{t}} dZ_{t}$$\n",
        "\n",
        "+ T = 30 / 365\n",
        "+ n = 30\n",
        "+ L = 3,N0= 2d,N1=N2=d+ 15, 3 layer, 2d, d + 15, d + 15 units\n",
        "+ larger learning rate, the tech-nique of batch normalizatio\n",
        "+ Relu activation"
      ]
    },
    {
      "cell_type": "markdown",
      "metadata": {
        "id": "-rzIxgmy6fVh"
      },
      "source": [
        "Heston Parameters\n",
        "\n",
        "$dS_{t} = \\sqrt{V_{t}} S_{t} dB_{t}$\n",
        "\n",
        "$dV_{t} = \\alpha(b - V_{t}) dt + \\sigma \\sqrt{V_{t}} dW_{t} $\n",
        "\n",
        "+ $\\alpha = 1, b = 0.04, \\sigma = 2, v_{0} =  0.04$\n",
        "\n",
        "+ Exact simulation of CIR\n",
        "\n",
        "\n",
        "Glasserman Chapter 3, page 124"
      ]
    },
    {
      "cell_type": "markdown",
      "metadata": {
        "id": "FX6VR_Q-mtFN"
      },
      "source": [
        ""
      ]
    },
    {
      "cell_type": "code",
      "metadata": {
        "colab": {
          "base_uri": "https://localhost:8080/"
        },
        "id": "symQXEfY7KXO",
        "outputId": "02373359-535e-4a32-bda1-4fc86fb34020"
      },
      "source": [
        "import numpy as np\n",
        "import matplotlib.pyplot as plt\n",
        "import scipy\n",
        "import cmath\n",
        "plt.style.use(\"fivethirtyeight\")\n",
        "import seaborn as sns\n",
        "!rm -rf Mean-Variance-Hedging\n",
        "!git clone https://github.com/chrischia06/Mean-Variance-Hedging\n",
        "\n",
        "import sys\n",
        "sys.path.append(\"Mean-Variance-Hedging/\")\n",
        "from mean_variance_hedge.dynamic_programming import *\n",
        "from mean_variance_hedge.black_scholes import *\n",
        "from mean_variance_hedge.heston import *\n",
        "from mean_variance_hedge.utils import *\n"
      ],
      "execution_count": null,
      "outputs": [
        {
          "output_type": "stream",
          "text": [
            "Cloning into 'Mean-Variance-Hedging'...\n",
            "remote: Enumerating objects: 75, done.\u001b[K\n",
            "remote: Counting objects: 100% (75/75), done.\u001b[K\n",
            "remote: Compressing objects: 100% (45/45), done.\u001b[K\n",
            "remote: Total 75 (delta 22), reused 67 (delta 18), pack-reused 0\u001b[K\n",
            "Unpacking objects: 100% (75/75), done.\n"
          ],
          "name": "stdout"
        }
      ]
    },
    {
      "cell_type": "code",
      "metadata": {
        "id": "1RIO1ymvFyR1"
      },
      "source": [
        "####################\n",
        "#    PARAMETERS    #\n",
        "####################\n",
        "\n",
        "N_SAMPLES = 10 ** 5\n",
        "\n",
        "\n",
        "alpha = 1 # speed of mean reversion\n",
        "b  = 0.04 #log-run variance\n",
        "sigma = 2 # vol-of variance\n",
        "dt = 1 / 250 # time increment, years\n",
        "v_0 = 0.04 # intial estimate of variance \n",
        "T = 30 #time steps\n",
        "\n",
        "tis = np.arange(T + 1) #0, 1 .. T\n",
        "tis = np.tile(tis, N_SAMPLES).reshape(N_SAMPLES, T + 1) # [[0, 1.. T], [0, 1.. T]...]\n",
        "\n",
        "S0 = 100\n",
        "rho = -0.7\n",
        "r = 0 # risk free rate\n",
        "rf = 1 + r #risk-free return\n",
        "\n",
        "\n",
        "K_strike = 100\n",
        "CALL = 1\n"
      ],
      "execution_count": null,
      "outputs": []
    },
    {
      "cell_type": "code",
      "metadata": {
        "id": "dxcDxkWVNi4C"
      },
      "source": [
        "Sts, Vts = generate_Heston_paths(n_samples = N_SAMPLES, S0 = 100, rho = -0.7, \n",
        "                                 r = 0, alpha = alpha, b = b, \n",
        "                                 sigma = sigma, dt = dt, \n",
        "                                 v_0 = v_0, T = T, seed = 2021)"
      ],
      "execution_count": null,
      "outputs": []
    },
    {
      "cell_type": "code",
      "metadata": {
        "id": "wExLfTO1bdve",
        "colab": {
          "base_uri": "https://localhost:8080/"
        },
        "outputId": "091585ff-aaf7-4eab-c857-2b62419d356b"
      },
      "source": [
        "Heston_MC_price = np.mean(np.maximum(Sts[:, T] - K_strike, 0))\n",
        "imp_vol = bsinv(Heston_MC_price, St = S0, K = K_strike, r = r, tau = T / 250, flag = 1)\n",
        "print(f\"Monte Carlo Heston Price: {Heston_MC_price}\")\n",
        "print(f\"Implied Volatility {imp_vol} (BS-Price under imp vol: {BlackScholes(S0, K_strike, r, imp_vol, T * dt, 1)})\")"
      ],
      "execution_count": null,
      "outputs": [
        {
          "output_type": "stream",
          "text": [
            "Monte Carlo Heston Price: 1.8989713424445749\n",
            "Implied Volatility 0.13742277963359376 (BS-Price under imp vol: 1.8989713424445753)\n"
          ],
          "name": "stdout"
        }
      ]
    },
    {
      "cell_type": "markdown",
      "metadata": {
        "id": "OGFIMZv1AFIT"
      },
      "source": [
        "Calibrate log-returns for the Dynamic Programming method based on log-returns from t = 0, 1"
      ]
    },
    {
      "cell_type": "code",
      "metadata": {
        "colab": {
          "base_uri": "https://localhost:8080/",
          "height": 280
        },
        "id": "zlU1mgHrnRcx",
        "outputId": "32428a7d-c950-4890-d163-ef38514d844d"
      },
      "source": [
        "observed_rets = np.log(Sts[:,1] / Sts[:,0])\n",
        "fig, ax = plt.subplots()\n",
        "sns.histplot(observed_rets, ax=ax)\n",
        "bounds = np.round([observed_rets.min(), observed_rets.max()], 3)\n",
        "print(bounds)"
      ],
      "execution_count": null,
      "outputs": [
        {
          "output_type": "stream",
          "text": [
            "[-0.065  0.048]\n"
          ],
          "name": "stdout"
        },
        {
          "output_type": "display_data",
          "data": {
            "image/png": "[encoded data removed]",
            "text/plain": [
              "<Figure size 432x288 with 1 Axes>"
            ]
          },
          "metadata": {
            "tags": [],
            "needs_background": "light"
          }
        }
      ]
    },
    {
      "cell_type": "code",
      "metadata": {
        "colab": {
          "base_uri": "https://localhost:8080/"
        },
        "id": "uxLs8v6ApUEB",
        "outputId": "819dd75d-7e2a-4ea1-aca7-41609c5a0c7c"
      },
      "source": [
        "scale_factor = 10 ** 3\n",
        "\n",
        "N_discrete_states = 10\n",
        "bins = np.linspace(bounds[0], bounds[1], N_discrete_states + 1)\n",
        "counts, val = np.histogram(observed_rets, bins=bins)\n",
        "p_probs = counts / np.sum(counts)\n",
        "\n",
        "log_ret_space = [round((bins[i] + bins[i + 1]) / 2, 3) for i in range(len(bins) - 1)]\n",
        "log_ret_space2 = [round(x * scale_factor) for x in log_ret_space]\n",
        "ret_space = np.exp(log_ret_space) # returns\n",
        "a, b, m, q_probs = calc_variance_optimal_measure(ret_space, rf, p_probs)\n",
        "print(\"Discretised Log-Returns space:\",log_ret_space)\n",
        "print(\"Variance Optimal probabilities:\",np.round(q_probs, 4))\n",
        "\n",
        "attainable_nodes = possible_nodes(log_ret_space, T, scale_factor)\n",
        "Hts = calc_mean_value_process(attainable_nodes, S0, K_strike, rf, log_ret_space, T, scale_factor, q_probs)\n",
        "dynamic_delta = calc_dynamic_deltas(attainable_nodes, Hts, S0, rf, log_ret_space, T, scale_factor, q_probs)    "
      ],
      "execution_count": null,
      "outputs": [
        {
          "output_type": "stream",
          "text": [
            "Discretised Log-Returns space: [-0.059, -0.048, -0.037, -0.025, -0.014, -0.003, 0.008, 0.02, 0.031, 0.042]\n",
            "Variance Optimal probabilities: [2.000e-04 1.700e-03 1.100e-02 5.250e-02 1.723e-01 3.293e-01 3.076e-01\n",
            " 1.116e-01 1.340e-02 5.000e-04]\n"
          ],
          "name": "stdout"
        }
      ]
    },
    {
      "cell_type": "markdown",
      "metadata": {
        "id": "PXiXQ3nbR5Bk"
      },
      "source": [
        "Calculate Black-Scholes, Dynamic Programming and Locally Optimal Hedge along Monte Carlo Paths"
      ]
    },
    {
      "cell_type": "code",
      "metadata": {
        "colab": {
          "base_uri": "https://localhost:8080/"
        },
        "id": "bNieRNWjYPVL",
        "outputId": "707ec6ce-02b4-4cbf-a6d2-fa1b56886409"
      },
      "source": [
        "%%time\n",
        "\n",
        "heston_vals = np.zeros((N_SAMPLES, T + 1))\n",
        "bs_vals = np.zeros((N_SAMPLES, T + 1))\n",
        "dynamic_vals = np.zeros((N_SAMPLES, T + 1))\n",
        "local_vals = np.zeros((N_SAMPLES, T + 1))\n",
        "\n",
        "\n",
        "\n",
        "\n",
        "bs_vals[:,0] = Heston_MC_price\n",
        "dynamic_vals[:,0] = Heston_MC_price\n",
        "local_vals[:,0] = Heston_MC_price\n",
        "heston_vals[:,0] = Heston_MC_price\n",
        "\n",
        "# heston_deltas = np.zeros((N_SAMPLES, T))\n",
        "bs_deltas = np.zeros((N_SAMPLES, T))\n",
        "dynamic_deltas = np.zeros((N_SAMPLES, T ))\n",
        "local_deltas = np.zeros((N_SAMPLES, T ))\n",
        "\n",
        "\n",
        "\n",
        "# heston_deltas[:, 0] = calc_Heston_delta_by_FD(kappa = 1, theta = 0.04, sigma = 2, rho = -0.7, r = 0, \n",
        "#                         s0 = S0, v0 = 0.04, K= K_strike, tau = (T - 0) * dt)\n",
        "dynamic_deltas[:, 0] = dynamic_delta[0][0]\n",
        "local_deltas[:,0] = dynamic_delta[0][0] + rf * a * (Hts[0][0] - Heston_MC_price) / S0\n",
        "\n",
        "attainable_rets = {t:np.array(list(attainable_nodes[t])) for t in range(T + 1)}\n",
        "\n",
        "for i in range(N_SAMPLES):\n",
        "  for t in range(1, T):\n",
        "    current_node = attainable_rets[t][np.abs(attainable_rets[t] - (np.log(Sts[i,t] / S0) * scale_factor)).argmin()]\n",
        "    dynamic_deltas[i, t] = dynamic_delta[t][current_node]\n",
        "    # adjustment require for the locally-optimal hedging value\n",
        "    local_vals[i, t] = (rf * local_vals[i, t - 1] + \n",
        "                        local_deltas[i, t - 1] * (Sts[i, t] - rf * Sts[i, t - 1]))\n",
        "    local_deltas[i, t] = (dynamic_delta[t][current_node] + \n",
        "                         rf * a * (Hts[t][current_node] - local_vals[i, t]) / Sts[i, t])\n",
        "  local_vals[i, T] = (rf * local_vals[i, T - 1] + \n",
        "                      local_deltas[i, T - 1] * (Sts[i, T] - rf * Sts[i, T - 1]))\n",
        "    \n",
        "    \n",
        "for i in range(N_SAMPLES):\n",
        "  bs_deltas[i, :] = delta(Sts[i, :-1], K_strike, r, imp_vol, (T - tis[i,:-1]) * dt, CALL) # BS deltas\n",
        "\n",
        "for t in range(1, T + 1):\n",
        "  bs_vals[:, t] = rf * bs_vals[:, t - 1] + bs_deltas[:, t  - 1] * (Sts[:, t] - rf * Sts[: , t- 1])\n",
        "  dynamic_vals[:, t] = rf * dynamic_vals[:, t - 1] + dynamic_deltas[:, t  - 1] * (Sts[:, t] - rf * Sts[: , t- 1])\n",
        "\n",
        "# calculate terminal value = hedging portfolio value - (ST - K)+\n",
        "bs_terminal_error = bs_vals[:, T] - np.maximum(Sts[:, T] - K_strike, 0)  \n",
        "local_terminal_error = local_vals[:, T] - np.maximum(Sts[:, T] - K_strike, 0)  \n",
        "dynamic_terminal_error = dynamic_vals[:, T] - np.maximum(Sts[:, T] - K_strike, 0)  "
      ],
      "execution_count": null,
      "outputs": [
        {
          "output_type": "stream",
          "text": [
            "CPU times: user 54.1 s, sys: 30.8 ms, total: 54.1 s\n",
            "Wall time: 54.2 s\n"
          ],
          "name": "stdout"
        }
      ]
    },
    {
      "cell_type": "markdown",
      "metadata": {
        "id": "pQenj8iNWKg9"
      },
      "source": [
        "Heston Model Hedge using Finite Differences"
      ]
    },
    {
      "cell_type": "code",
      "metadata": {
        "colab": {
          "base_uri": "https://localhost:8080/"
        },
        "id": "QLMcu8_wrnB6",
        "outputId": "bd930bcd-aebf-4c19-f2ae-82f4e541f9dc"
      },
      "source": [
        "%%time\n",
        "for t in range(1, T):\n",
        "  heston_deltas[:,t] = vec_fd(kappa = alpha, theta = b, sigma = sigma, rho = rho, r = r, \n",
        "                        s0 = Sts[:, t], v0 = v_0, K= K_strike, tau = (T - t) * dt)"
      ],
      "execution_count": null,
      "outputs": [
        {
          "output_type": "stream",
          "text": [
            "CPU times: user 1h 7min 52s, sys: 10.2 s, total: 1h 8min 2s\n",
            "Wall time: 1h 8min 16s\n"
          ],
          "name": "stdout"
        }
      ]
    },
    {
      "cell_type": "code",
      "metadata": {
        "id": "IO7mUhVha0Vk"
      },
      "source": [
        "heston_vals[:,0] = Heston_MC_price\n",
        "\n",
        "for t in range(1, T + 1):\n",
        "  heston_vals[:, t] = rf * heston_vals[:, t - 1] + heston_deltas[:, t  - 1] * (Sts[:, t] - rf * Sts[: , t- 1])\n",
        "\n",
        "heston_terminal_error = heston_vals[:, T] - np.maximum(Sts[:, T] - K_strike, 0)  "
      ],
      "execution_count": null,
      "outputs": []
    },
    {
      "cell_type": "code",
      "metadata": {
        "colab": {
          "base_uri": "https://localhost:8080/",
          "height": 81
        },
        "id": "0qP1WDPbalXe",
        "outputId": "c47582da-d21c-42a1-df23-ff375426a57f"
      },
      "source": [
        "diagnosis(heston_terminal_error)"
      ],
      "execution_count": null,
      "outputs": [
        {
          "output_type": "execute_result",
          "data": {
            "text/html": [
              "<div>\n",
              "<style scoped>\n",
              "    .dataframe tbody tr th:only-of-type {\n",
              "        vertical-align: middle;\n",
              "    }\n",
              "\n",
              "    .dataframe tbody tr th {\n",
              "        vertical-align: top;\n",
              "    }\n",
              "\n",
              "    .dataframe thead th {\n",
              "        text-align: right;\n",
              "    }\n",
              "</style>\n",
              "<table border=\"1\" class=\"dataframe\">\n",
              "  <thead>\n",
              "    <tr style=\"text-align: right;\">\n",
              "      <th></th>\n",
              "      <th>MSHE</th>\n",
              "      <th>CVar 1%</th>\n",
              "      <th>CVaR 5%</th>\n",
              "      <th>CVar 10%</th>\n",
              "      <th>CVaR 50%</th>\n",
              "    </tr>\n",
              "  </thead>\n",
              "  <tbody>\n",
              "    <tr>\n",
              "      <th>0</th>\n",
              "      <td>4.154632</td>\n",
              "      <td>10.467723</td>\n",
              "      <td>6.385729</td>\n",
              "      <td>4.766061</td>\n",
              "      <td>1.343923</td>\n",
              "    </tr>\n",
              "  </tbody>\n",
              "</table>\n",
              "</div>"
            ],
            "text/plain": [
              "       MSHE    CVar 1%   CVaR 5%  CVar 10%  CVaR 50%\n",
              "0  4.154632  10.467723  6.385729  4.766061  1.343923"
            ]
          },
          "metadata": {
            "tags": []
          },
          "execution_count": 74
        }
      ]
    },
    {
      "cell_type": "markdown",
      "metadata": {
        "id": "i2Mee7zHVA-d"
      },
      "source": [
        "# Deep Hedging"
      ]
    },
    {
      "cell_type": "code",
      "metadata": {
        "id": "5EXhTw8FzRIO"
      },
      "source": [
        "from tensorflow.keras.layers import Input, Dense, LSTM, GRU, BatchNormalization, Dropout\n",
        "from tensorflow.keras import Model\n",
        "from tensorflow.keras.regularizers import l2\n",
        "from tensorflow.keras.optimizers import Adam\n",
        "from tensorflow.keras import initializers\n",
        "\n",
        "def deep_hedger(T, n_feats):\n",
        "    \"\"\"\n",
        "    Feed-Forward Neural Network\n",
        "    \"\"\"\n",
        "    input_layer = Input(shape = (None, n_feats))\n",
        "    # batch_norm = BatchNormalization()(input_layer)\n",
        "    layer_1 = GRU(32, activation='tanh', \n",
        "                      kernel_initializer=initializers.RandomNormal(0,0.1),\n",
        "                      bias_initializer=initializers.RandomNormal(0,0.1),\n",
        "                  return_sequences=True\n",
        "                  )(input_layer)\n",
        "    # layer_2 = Dense(16, activation='relu',\n",
        "    #                 kernel_initializer=initializers.RandomNormal())(batch_norm1)\n",
        "    # batch_norm2 = BatchNormalization()(layer_2)\n",
        "    # layer_3 = Dense(8, activation='relu', \n",
        "    #                 kernel_initializer = initializers.RandomNormal())(batch_norm2)\n",
        "    # batch_norm3 = BatchNormalization()(layer_3)\n",
        "    output_layer = Dense(1, activation='linear',\n",
        "                         kernel_initializer=initializers.RandomNormal(),\n",
        "                         bias_initializer=initializers.RandomNormal(0,0.1)\n",
        "                         )(layer_1)\n",
        "    model = Model(input_layer, output_layer)\n",
        "    return model\n",
        "\n"
      ],
      "execution_count": null,
      "outputs": []
    },
    {
      "cell_type": "code",
      "metadata": {
        "id": "hcTLXXENWbKR"
      },
      "source": [
        "from sklearn.model_selection import train_test_split\n",
        "X_true = np.log(Sts[:,:-1] / K_strike)\n",
        "X_true = X_true.reshape((-1, T, 1))\n",
        "y_true = Sts.reshape((-1, T + 1, 1))\n",
        "\n",
        "# generate additional Heston paths, but NOT from the original observed paths\n",
        "N_TRAIN_PATHS = 10 ** 5\n",
        "train_paths, Vts2 = generate_Heston_paths(n_samples = N_SAMPLES, S0 = 100, rho = -0.7, \n",
        "                                 r = 0, alpha = alpha, b = b, \n",
        "                                 sigma = sigma, dt = dt, \n",
        "                                 v_0 = v_0, T = T, seed = 42)\n",
        "\n",
        "X = np.log(train_paths / K_strike)\n",
        "\n",
        "n_feats = 1\n",
        "X2 = X[:, :-1].reshape((-1, T, n_feats))\n",
        "y2 = train_paths.reshape((-1, T + 1, n_feats))\n",
        "\n",
        "X_train, X_val, y_train, y_val = train_test_split(X2, y2, test_size=0.2, random_state = 42)"
      ],
      "execution_count": null,
      "outputs": []
    },
    {
      "cell_type": "code",
      "metadata": {
        "id": "o_8505xMzdKd"
      },
      "source": [
        "def MSHE_Loss(init_price, strike, T):\n",
        "    def lossFunction(y_true,y_pred):\n",
        "      # for simplcity ignore rf for now, although this could be incorporated\n",
        "      price_changes = tf.experimental.numpy.diff(y_true, n=1, axis=1)\n",
        "      val = tf.reduce_sum(tf.math.multiply(price_changes, y_pred),axis=1)\n",
        "      # print(tf.shape(price_changes))     \n",
        "      # print(tf.shape(y_true)Z)\n",
        "      option_val = tf.math.maximum(y_true[:,-1] - strike, 0)\n",
        "\n",
        "      # val = (tf.math.reduce_sum(deltas * price_changes,axis=1))\n",
        "      return tf.math.reduce_mean(tf.math.square(-option_val + val + init_price))\n",
        "    return lossFunction\n",
        "\n",
        "def cvarLoss(init_price, strike, T, batch_size, proportion = 0.01):\n",
        "    num = int(batch_size * proportion)\n",
        "    def lossFunction(y_true,y_pred):\n",
        "      price_changes = tf.experimental.numpy.diff(y_true, n=1, axis=1)\n",
        "      val = tf.reduce_sum(tf.math.multiply(price_changes, y_pred),axis=1)      \n",
        "      option_val = tf.math.maximum(y_true[:,-1,:] - strike, 0)\n",
        "      # top k worse - net value\n",
        "      error = tf.reshape(-(-option_val + val + init_price), [-1])\n",
        "      CVaR, idx = tf.math.top_k(error, tf.constant(num, dtype=tf.int32))\n",
        "      # return tf.math.reduce_mean(CVaR)\n",
        "      return tf.math.reduce_mean(CVaR)\n",
        "    return lossFunction"
      ],
      "execution_count": null,
      "outputs": []
    },
    {
      "cell_type": "code",
      "metadata": {
        "colab": {
          "base_uri": "https://localhost:8080/"
        },
        "id": "IEOQybT5zfM5",
        "outputId": "8351fc4b-7b06-4169-9ed8-f3bb10ab5076"
      },
      "source": [
        "import os\n",
        "import datetime\n",
        "import tensorflow as tf\n",
        "tf.random.set_seed(2021)\n",
        "\n",
        "lr = 0.005\n",
        "BATCH_SIZE = 256\n",
        "EPOCHS = 50\n",
        "\n",
        "\n",
        "logdir = os.path.join(\"logs\", datetime.datetime.now().strftime(\"%Y%m%d-%H%M%S\"))\n",
        "tensorboard_callback = tf.keras.callbacks.TensorBoard(logdir, histogram_freq=1)\n",
        "early_stopping_callback =  tf.keras.callbacks.EarlyStopping(monitor='val_loss', patience=10)\n",
        "\n",
        "model = deep_hedger(T, n_feats)\n",
        "model.summary()\n",
        "print(\"Check Model\", model.predict(np.zeros((1, T, 1))).reshape(-1))\n",
        "\n",
        "mshe_loss = MSHE_Loss(init_price=Heston_MC_price, strike=K_strike, T = T)\n",
        "model.compile(optimizer=Adam(learning_rate=lr), loss=mshe_loss)\n",
        "model.fit(X_train, y_train, epochs=EPOCHS, verbose=1, \n",
        "          batch_size=BATCH_SIZE, callbacks=[tensorboard_callback,early_stopping_callback],\n",
        "          validation_data=(X_val, y_val), shuffle=False)\n",
        "\n",
        "# cvar_loss = cvarLoss(init_price = Heston_MC_price, strike = K_strike, T = T, batch_size = BATCH_SIZE, proportion = 0.01)\n",
        "\n",
        "# cvar_model = deep_hedger(T, n_feats)\n",
        "# cvar_model.compile(optimizer=Adam(learning_rate=lr), loss=cvar_loss)\n",
        "# cvar_model.fit(X_train, y_train, epochs=EPOCHS, verbose=1, \n",
        "#           batch_size=BATCH_SIZE, callbacks=[tensorboard_callback,early_stopping_callback],\n",
        "#           validation_data=(X_val, y_val), shuffle=False)\n"
      ],
      "execution_count": null,
      "outputs": [
        {
          "output_type": "stream",
          "text": [
            "Model: \"model\"\n",
            "_________________________________________________________________\n",
            "Layer (type)                 Output Shape              Param #   \n",
            "=================================================================\n",
            "input_1 (InputLayer)         [(None, None, 1)]         0         \n",
            "_________________________________________________________________\n",
            "gru (GRU)                    (None, None, 32)          3360      \n",
            "_________________________________________________________________\n",
            "dense (Dense)                (None, None, 1)           33        \n",
            "=================================================================\n",
            "Total params: 3,393\n",
            "Trainable params: 3,393\n",
            "Non-trainable params: 0\n",
            "_________________________________________________________________\n",
            "Check Model [-0.02293535 -0.00704249  0.00108805  0.00526644  0.00739373  0.00844738\n",
            "  0.00894241  0.00915322  0.00922545  0.00923493  0.00921978  0.00919808\n",
            "  0.00917754  0.00916084  0.00914831  0.00913939  0.00913328  0.00912921\n",
            "  0.00912657  0.0091249   0.00912386  0.00912324  0.00912286  0.00912265\n",
            "  0.00912253  0.00912246  0.00912243  0.00912242  0.00912242  0.00912242]\n",
            "Epoch 1/50\n",
            "313/313 [==============================] - 11s 27ms/step - loss: 10.0872 - val_loss: 6.7091\n",
            "Epoch 2/50\n",
            "313/313 [==============================] - 8s 25ms/step - loss: 6.6817 - val_loss: 6.4719\n",
            "Epoch 3/50\n",
            "313/313 [==============================] - 8s 25ms/step - loss: 6.4837 - val_loss: 6.5099\n",
            "Epoch 4/50\n",
            "313/313 [==============================] - 8s 24ms/step - loss: 6.3781 - val_loss: 6.3398\n",
            "Epoch 5/50\n",
            "313/313 [==============================] - 8s 24ms/step - loss: 6.2925 - val_loss: 6.2229\n",
            "Epoch 6/50\n",
            "313/313 [==============================] - 8s 25ms/step - loss: 6.2400 - val_loss: 6.1576\n",
            "Epoch 7/50\n",
            "313/313 [==============================] - 7s 24ms/step - loss: 6.2063 - val_loss: 6.1300\n",
            "Epoch 8/50\n",
            "313/313 [==============================] - 8s 25ms/step - loss: 6.1817 - val_loss: 6.1119\n",
            "Epoch 9/50\n",
            "313/313 [==============================] - 8s 24ms/step - loss: 6.1605 - val_loss: 6.0912\n",
            "Epoch 10/50\n",
            "313/313 [==============================] - 8s 24ms/step - loss: 6.1397 - val_loss: 6.0707\n",
            "Epoch 11/50\n",
            "313/313 [==============================] - 8s 24ms/step - loss: 6.1205 - val_loss: 6.0514\n",
            "Epoch 12/50\n",
            "313/313 [==============================] - 8s 24ms/step - loss: 6.1048 - val_loss: 6.0359\n",
            "Epoch 13/50\n",
            "313/313 [==============================] - 8s 24ms/step - loss: 6.0926 - val_loss: 6.0238\n",
            "Epoch 14/50\n",
            "313/313 [==============================] - 8s 24ms/step - loss: 6.0818 - val_loss: 6.0123\n",
            "Epoch 15/50\n",
            "313/313 [==============================] - 8s 24ms/step - loss: 6.0701 - val_loss: 6.0046\n",
            "Epoch 16/50\n",
            "313/313 [==============================] - 8s 25ms/step - loss: 6.0556 - val_loss: 5.9989\n",
            "Epoch 17/50\n",
            "313/313 [==============================] - 8s 24ms/step - loss: 6.0385 - val_loss: 5.9983\n",
            "Epoch 18/50\n",
            "313/313 [==============================] - 8s 24ms/step - loss: 6.0222 - val_loss: 6.0001\n",
            "Epoch 19/50\n",
            "313/313 [==============================] - 8s 24ms/step - loss: 6.0079 - val_loss: 6.0081\n",
            "Epoch 20/50\n",
            "313/313 [==============================] - 8s 25ms/step - loss: 5.9947 - val_loss: 6.0097\n",
            "Epoch 21/50\n",
            "313/313 [==============================] - 8s 25ms/step - loss: 5.9727 - val_loss: 6.0333\n",
            "Epoch 22/50\n",
            "313/313 [==============================] - 8s 25ms/step - loss: 5.9699 - val_loss: 6.0763\n",
            "Epoch 23/50\n",
            "313/313 [==============================] - 8s 25ms/step - loss: 5.9410 - val_loss: 6.0830\n",
            "Epoch 24/50\n",
            "313/313 [==============================] - 8s 25ms/step - loss: 5.9693 - val_loss: 6.0938\n",
            "Epoch 25/50\n",
            "313/313 [==============================] - 8s 25ms/step - loss: 5.9651 - val_loss: 6.0884\n",
            "Epoch 26/50\n",
            "313/313 [==============================] - 8s 25ms/step - loss: 5.9345 - val_loss: 6.0815\n",
            "Epoch 27/50\n",
            "313/313 [==============================] - 8s 25ms/step - loss: 5.9884 - val_loss: 6.0277\n"
          ],
          "name": "stdout"
        },
        {
          "output_type": "execute_result",
          "data": {
            "text/plain": [
              "<tensorflow.python.keras.callbacks.History at 0x7ff9bf7d0b90>"
            ]
          },
          "metadata": {
            "tags": []
          },
          "execution_count": 16
        }
      ]
    },
    {
      "cell_type": "code",
      "metadata": {
        "id": "7uQOdX-Pz2Kn"
      },
      "source": [
        "deep_hedge_deltas = np.zeros((N_SAMPLES, T))\n",
        "deep_cvar_hedge_deltas = np.zeros((N_SAMPLES, T))\n",
        "\n",
        "for i in range(T):\n",
        "  temp= model.predict(X_true[:,:(i + 1),:], batch_size=512)\n",
        "  deep_hedge_deltas[:,i] =  temp.reshape(-1, i + 1)[:,i]\n",
        "  # temp2 = cvar_model.predict(X_true[:,:(i + 1),:], batch_size=512)\n",
        "  # deep_cvar_hedge_deltas[:, i] = temp2.reshape(-1, i + 1)[:,i]\n",
        "\n",
        "# calculate portfolio value\n",
        "deep_vals = np.zeros((N_SAMPLES, T + 1))\n",
        "deep_vals[:,0] = Heston_MC_price\n",
        "\n",
        "# deep_cvar_vals = np.zeros((N_SAMPLES, T + 1))\n",
        "# deep_cvar_vals[:,0] = Heston_MC_price\n",
        "\n",
        "\n",
        "for t in range(1, T + 1):\n",
        "    deep_vals[:, t] = rf * deep_vals[:, t - 1] + deep_hedge_deltas[:, t - 1] * (Sts[:, t] - rf * Sts[:, t - 1]) \n",
        "    # deep_cvar_vals[:, t] = rf * deep_cvar_vals[:, t - 1] + deep_cvar_hedge_deltas[:, t - 1] * (Sts[:, t] - rf * Sts[:, t - 1]) \n",
        "    \n",
        "\n",
        "deep_terminal_error = deep_vals[:, T] - np.maximum(Sts[:, T] - K_strike, 0)\n",
        "# deep_cvar_terminal_error = deep_cvar_vals[:, T] - np.maximum(Sts[:, T] - K_strike, 0)\n",
        "  \n",
        "  "
      ],
      "execution_count": null,
      "outputs": []
    },
    {
      "cell_type": "markdown",
      "metadata": {
        "id": "x8WBubQNU-9a"
      },
      "source": [
        "# Plot Results"
      ]
    },
    {
      "cell_type": "code",
      "metadata": {
        "colab": {
          "base_uri": "https://localhost:8080/",
          "height": 412
        },
        "id": "pBQIgru70HU4",
        "outputId": "5acaab97-59fb-4d25-a5b2-c7e75dba81b7"
      },
      "source": [
        "hedging_errors = [bs_terminal_error, local_terminal_error, dynamic_terminal_error,\n",
        "                  deep_terminal_error] #, deep_cvar_terminal_error]\n",
        "\n",
        "hedging_errors2 = [diagnosis(error) for error in hedging_errors]\n",
        "results = pd.concat(hedging_errors2)\n",
        "\n",
        "titles = [\"BS-delta\", \"Local Hedge\", \"Dynamic Hedge\", ] + [\"Deep-Hedger\"]#, \"Deep-CVaR-Hedger\"]\n",
        "results.index = titles\n",
        "display(results)\n",
        "\n",
        "\n",
        "plot_titles = [title +\" error\" for title in titles]\n",
        "fig, ax = plt.subplots(ncols= len(titles), figsize=(len(titles) * 6, 5))\n",
        "for i in range(len(titles)):\n",
        "  sns.histplot(hedging_errors[i], ax=ax[i]).set_title(plot_titles[i]) "
      ],
      "execution_count": null,
      "outputs": [
        {
          "output_type": "display_data",
          "data": {
            "text/html": [
              "<div>\n",
              "<style scoped>\n",
              "    .dataframe tbody tr th:only-of-type {\n",
              "        vertical-align: middle;\n",
              "    }\n",
              "\n",
              "    .dataframe tbody tr th {\n",
              "        vertical-align: top;\n",
              "    }\n",
              "\n",
              "    .dataframe thead th {\n",
              "        text-align: right;\n",
              "    }\n",
              "</style>\n",
              "<table border=\"1\" class=\"dataframe\">\n",
              "  <thead>\n",
              "    <tr style=\"text-align: right;\">\n",
              "      <th></th>\n",
              "      <th>MSHE</th>\n",
              "      <th>CVar 1%</th>\n",
              "      <th>CVaR 5%</th>\n",
              "      <th>CVar 10%</th>\n",
              "      <th>CVaR 50%</th>\n",
              "    </tr>\n",
              "  </thead>\n",
              "  <tbody>\n",
              "    <tr>\n",
              "      <th>BS-delta</th>\n",
              "      <td>3.143079</td>\n",
              "      <td>9.524499</td>\n",
              "      <td>5.632385</td>\n",
              "      <td>4.089477</td>\n",
              "      <td>1.121566</td>\n",
              "    </tr>\n",
              "    <tr>\n",
              "      <th>Local Hedge</th>\n",
              "      <td>2.950864</td>\n",
              "      <td>8.677565</td>\n",
              "      <td>5.200123</td>\n",
              "      <td>3.862064</td>\n",
              "      <td>1.149328</td>\n",
              "    </tr>\n",
              "    <tr>\n",
              "      <th>Dynamic Hedge</th>\n",
              "      <td>2.956798</td>\n",
              "      <td>8.592913</td>\n",
              "      <td>5.178991</td>\n",
              "      <td>3.866077</td>\n",
              "      <td>1.154398</td>\n",
              "    </tr>\n",
              "    <tr>\n",
              "      <th>Deep-Hedger</th>\n",
              "      <td>2.524503</td>\n",
              "      <td>6.627313</td>\n",
              "      <td>4.422683</td>\n",
              "      <td>3.542721</td>\n",
              "      <td>1.151801</td>\n",
              "    </tr>\n",
              "  </tbody>\n",
              "</table>\n",
              "</div>"
            ],
            "text/plain": [
              "                   MSHE   CVar 1%   CVaR 5%  CVar 10%  CVaR 50%\n",
              "BS-delta       3.143079  9.524499  5.632385  4.089477  1.121566\n",
              "Local Hedge    2.950864  8.677565  5.200123  3.862064  1.149328\n",
              "Dynamic Hedge  2.956798  8.592913  5.178991  3.866077  1.154398\n",
              "Deep-Hedger    2.524503  6.627313  4.422683  3.542721  1.151801"
            ]
          },
          "metadata": {
            "tags": []
          }
        },
        {
          "output_type": "display_data",
          "data": {
            "image/png": "[encoded data removed]",
            "text/plain": [
              "<Figure size 1728x360 with 4 Axes>"
            ]
          },
          "metadata": {
            "tags": [],
            "needs_background": "light"
          }
        }
      ]
    },
    {
      "cell_type": "code",
      "metadata": {
        "colab": {
          "base_uri": "https://localhost:8080/"
        },
        "id": "IDG4_uelD0jO",
        "outputId": "4c1c41ed-71d1-48b8-a930-c74839b1267b"
      },
      "source": [
        "print(results.to_latex())"
      ],
      "execution_count": null,
      "outputs": [
        {
          "output_type": "stream",
          "text": [
            "\\begin{tabular}{lrrrrr}\n",
            "\\toprule\n",
            "{} &      MSHE &   CVar 1\\% &   CVaR 5\\% &  CVar 10\\% &  CVaR 50\\% \\\\\n",
            "\\midrule\n",
            "BS-delta      &  3.143079 &  9.524499 &  5.632385 &  4.089477 &  1.121566 \\\\\n",
            "Local Hedge   &  2.950864 &  8.677565 &  5.200123 &  3.862064 &  1.149328 \\\\\n",
            "Dynamic Hedge &  2.956798 &  8.592913 &  5.178991 &  3.866077 &  1.154398 \\\\\n",
            "Deep-Hedger   &  2.524503 &  6.627313 &  4.422683 &  3.542721 &  1.151801 \\\\\n",
            "\\bottomrule\n",
            "\\end{tabular}\n",
            "\n"
          ],
          "name": "stdout"
        }
      ]
    },
    {
      "cell_type": "markdown",
      "metadata": {
        "id": "r3gkAdwQ2mTA"
      },
      "source": [
        "Test to make sure loss functions are correctly specified"
      ]
    },
    {
      "cell_type": "code",
      "metadata": {
        "colab": {
          "base_uri": "https://localhost:8080/"
        },
        "id": "zBWvkvkl0hfu",
        "outputId": "8198bb5e-fd29-4da3-b80e-8d73af4bd589"
      },
      "source": [
        "mshe_loss(y_true, bs_deltas.reshape(-1, T, 1))"
      ],
      "execution_count": null,
      "outputs": [
        {
          "output_type": "execute_result",
          "data": {
            "text/plain": [
              "<tf.Tensor: shape=(), dtype=float64, numpy=3.196536495150333>"
            ]
          },
          "metadata": {
            "tags": []
          },
          "execution_count": 150
        }
      ]
    },
    {
      "cell_type": "code",
      "metadata": {
        "colab": {
          "base_uri": "https://localhost:8080/"
        },
        "id": "j-BNk7Pn1ine",
        "outputId": "a799f40c-cf3e-41eb-fd3b-6bf0b96c0f0c"
      },
      "source": [
        "cvar_loss_test = cvarLoss(init_price = Heston_MC_price, strike = K_strike, T = T, batch_size = N_SAMPLES, proportion = 0.01)\n",
        "cvar_loss_test(y_true, deep_cvar_hedge_deltas.reshape(-1, T, 1))"
      ],
      "execution_count": null,
      "outputs": [
        {
          "output_type": "execute_result",
          "data": {
            "text/plain": [
              "<tf.Tensor: shape=(), dtype=float64, numpy=6.644984989691031>"
            ]
          },
          "metadata": {
            "tags": []
          },
          "execution_count": 169
        }
      ]
    },
    {
      "cell_type": "code",
      "metadata": {
        "id": "tjkSKeBQv9ri"
      },
      "source": [
        "    def characteristic_func(kappa, theta, sigma, rho, r, xi, s0, v0, tau):\n",
        "        ixi = 1j * xi\n",
        "        d = np.sqrt((kappa - ixi * rho * sigma)**2\n",
        "                       + sigma**2 * (ixi + xi**2))\n",
        "        g = (kappa - ixi * rho * sigma - d) / (kappa - ixi * rho * sigma + d)\n",
        "        ee = cmath.exp(-d * tau)\n",
        "        C = ixi * r * tau + kappa * theta / sigma**2 * (\n",
        "            (kappa - ixi * rho * sigma - d) * tau - 2. * cmath.log((1 - g * ee) / (1 - g))\n",
        "        )\n",
        "        D = (kappa - ixi * rho * sigma - d) / sigma**2 * (\n",
        "            (1 - ee) / (1 - g * ee)\n",
        "        )\n",
        "        return cmath.exp(C + D*v0 + ixi * cmath.log(s0))\n",
        "\n",
        "    def integ_func(kappa, theta, sigma, rho, r, xi, s0, v0, K, tau, num):\n",
        "        ixi = 1j * xi\n",
        "        if num == 1:\n",
        "            return (characteristic_func(kappa, theta, sigma, rho, r, xi - 1j, s0, v0, tau) / (ixi * characteristic_func(kappa, theta, sigma, rho, r, -1j, s0, v0, tau)) * cmath.exp(-ixi * cmath.log(K))).real\n",
        "        else:\n",
        "            return (characteristic_func(kappa, theta, sigma, rho, r, xi, s0, v0, tau) / (ixi) * cmath.exp(-ixi * cmath.log(K))).real\n",
        "\n",
        "    def call_price(kappa, theta, sigma, rho, r, s0, v0, K, tau):\n",
        "    \n",
        "        \"Simplified form, with only one integration. \"\n",
        "        h = lambda xi: s0 * integ_func(kappa, theta, sigma, rho, r, xi, s0, v0, K, tau, 1) - K * np.exp(-r * tau) * integ_func(kappa, theta, sigma, rho, r, xi, s0, v0, K, tau, 2)\n",
        "        return 0.5 * (s0 - K * np.exp(-r * tau)) + 1/np.pi * scipy.integrate.quad(h, 1e-4, 500.)[0]\n",
        "\n",
        "    def calc_Heston_delta_by_FD(kappa, theta, sigma, rho, r, s0, v0, K, tau):\n",
        "        return (call_price(kappa, theta, sigma, rho, r, s0 + 0.0001, v0, K, tau) - \n",
        "                call_price(kappa, theta, sigma, rho, r, s0, v0, K, tau)) / 0.0001\n",
        "\n",
        "\n",
        "    def calc_Heston_vega_by_FD(s0, v0, k, tau, pricer):\n",
        "        \" This is the sensitivity of price w.r.t variance, not to vega \"\n",
        "        dv = v0 * 0.001\n",
        "        p_plus = pricer.call_price(s0, v0 + dv, k, tau)\n",
        "        p_minus = pricer.call_price(s0, v0 - dv, k, tau)\n",
        "        return (p_plus - p_minus) / (2 * dv)"
      ],
      "execution_count": null,
      "outputs": []
    },
    {
      "cell_type": "code",
      "metadata": {
        "colab": {
          "base_uri": "https://localhost:8080/",
          "height": 279
        },
        "id": "GP2v_qZ0tlx7",
        "outputId": "d33786be-b417-4d20-e19f-1916b34dbb57"
      },
      "source": [
        "# inspect NN behaviour\n",
        "moneyness_grid = np.linspace(-0.1, 0.1, 10).reshape(-1, 1, 1)\n",
        "inp = tf.Variable(moneyness_grid, dtype=tf.float32)\n",
        "with tf.GradientTape() as tape:\n",
        "    preds = model(inp)\n",
        "grads = tape.gradient(preds, inp)\n",
        "\n",
        "\n",
        "grads = grads.numpy().reshape(-1)\n",
        "\n",
        "plt.plot(moneyness_grid.reshape(-1), grads / (K_strike * np.exp(moneyness_grid.reshape(-1))))"
      ],
      "execution_count": null,
      "outputs": [
        {
          "output_type": "execute_result",
          "data": {
            "text/plain": [
              "[<matplotlib.lines.Line2D at 0x7ff9e019bf90>]"
            ]
          },
          "metadata": {
            "tags": []
          },
          "execution_count": 109
        },
        {
          "output_type": "display_data",
          "data": {
            "image/png": "[encoded data removed]",
            "text/plain": [
              "<Figure size 432x288 with 1 Axes>"
            ]
          },
          "metadata": {
            "tags": [],
            "needs_background": "light"
          }
        }
      ]
    },
    {
      "cell_type": "code",
      "metadata": {
        "colab": {
          "base_uri": "https://localhost:8080/"
        },
        "id": "2Ucv6saIAxB4",
        "outputId": "99715059-81a2-47d2-b645-3805247314e4"
      },
      "source": [
        "%%time\n",
        "calc_Heston_delta_by_FD(kappa = 1, theta = 0.04, sigma = 2, rho = -0.7, r = 0, \n",
        "                        s0 = Sts[0, 0], v0 = 0.04, K= K_strike, tau = (T - 0) * dt)"
      ],
      "execution_count": null,
      "outputs": [
        {
          "output_type": "stream",
          "text": [
            "CPU times: user 18.8 ms, sys: 1.01 ms, total: 19.8 ms\n",
            "Wall time: 22.4 ms\n"
          ],
          "name": "stdout"
        },
        {
          "output_type": "execute_result",
          "data": {
            "text/plain": [
              "0.7086906155162609"
            ]
          },
          "metadata": {
            "tags": []
          },
          "execution_count": 65
        }
      ]
    },
    {
      "cell_type": "code",
      "metadata": {
        "colab": {
          "base_uri": "https://localhost:8080/"
        },
        "id": "MnqWWO2oSsjK",
        "outputId": "b5bb3ed8-2ed1-4d58-8c71-af09864c3766"
      },
      "source": [
        "h = 0.0001\n",
        "(call_price(kappa = 1, theta = 0.04, sigma = 2, rho = -0.7, r = 0, \n",
        "                        s0 = Sts[0, 0] + h, v0 = 0.04, K= K_strike, tau = (T - 0) * dt) - call_price(kappa = 1, theta = 0.04, sigma = 2, rho = -0.7, r = 0, \n",
        "                        s0 = Sts[0, 0] - h, v0 = 0.04, K= K_strike, tau = (T - 0) * dt)) / (2 * h)"
      ],
      "execution_count": null,
      "outputs": [
        {
          "output_type": "execute_result",
          "data": {
            "text/plain": [
              "0.7086852332416349"
            ]
          },
          "metadata": {
            "tags": []
          },
          "execution_count": 34
        }
      ]
    },
    {
      "cell_type": "code",
      "metadata": {
        "colab": {
          "base_uri": "https://localhost:8080/"
        },
        "id": "qlszGvzbBfOx",
        "outputId": "ed7e3d75-fce0-40e5-fd7d-48c4ead11bdb"
      },
      "source": [
        "%%time\n",
        "vec_fd = np.vectorize(calc_Heston_delta_by_FD)\n",
        "print(vec_fd(kappa = 1, theta = 0.04, sigma = 2, rho = -0.7, r = 0, \n",
        "                        s0 = Sts[:10, :1], v0 = 0.04, K= K_strike, tau = (T - 0) * dt))"
      ],
      "execution_count": null,
      "outputs": [
        {
          "output_type": "stream",
          "text": [
            "[[0.70869062]\n",
            " [0.70869062]\n",
            " [0.70869062]\n",
            " [0.70869062]\n",
            " [0.70869062]\n",
            " [0.70869062]\n",
            " [0.70869062]\n",
            " [0.70869062]\n",
            " [0.70869062]\n",
            " [0.70869062]]\n",
            "CPU times: user 241 ms, sys: 791 µs, total: 242 ms\n",
            "Wall time: 243 ms\n"
          ],
          "name": "stdout"
        }
      ]
    },
    {
      "cell_type": "code",
      "metadata": {
        "id": "qysJ5_ajsCRo"
      },
      "source": [
        "with open(\"heston_deltas.npy\", \"wb\") as f:\n",
        "  np.save(f, heston_deltas)"
      ],
      "execution_count": null,
      "outputs": []
    },
    {
      "cell_type": "markdown",
      "metadata": {
        "id": "BuiQy11yTn7l"
      },
      "source": [
        "# References\n",
        "\n",
        "\n",
        "\n",
        "+ Weiguan Wang\n",
        "+ Mathematical Modeling and Computation in Finance\n",
        "+ Glasserman \n",
        "+ Broadie Kaya\n",
        "\n",
        "## Code References\n",
        "\n",
        "+ https://github.com/weiguanwang/Hedging_Neural_Networks/blob/master/library/heston.py\n",
        "+https://github.com/LechGrzelak/Computational-Finance-Course/blob/main/Lecture%2010-%20Monte%20Carlo%20Simulation%20of%20the%20Heston%20Model/Materials/HestonModelDiscretization.py"
      ]
    },
    {
      "cell_type": "code",
      "metadata": {
        "id": "Lo8Y_CBYTpU4"
      },
      "source": [
        ""
      ],
      "execution_count": null,
      "outputs": []
    }
  ]
}