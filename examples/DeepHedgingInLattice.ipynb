{
  "nbformat": 4,
  "nbformat_minor": 0,
  "metadata": {
    "colab": {
      "name": "DeepHedgingInLattice.ipynb",
      "provenance": [],
      "collapsed_sections": [],
      "toc_visible": true
    },
    "kernelspec": {
      "name": "python3",
      "display_name": "Python 3"
    }
  },
  "cells": [
    {
      "cell_type": "code",
      "metadata": {
        "colab": {
          "base_uri": "https://localhost:8080/"
        },
        "id": "KEienoh8Enlx",
        "outputId": "c7419b52-e570-488c-f6ba-d5b5acf72263"
      },
      "source": [
        "import pandas as pd\n",
        "import seaborn as sns\n",
        "import numpy as np\n",
        "import matplotlib.pyplot as plt\n",
        "import itertools\n",
        "import sys\n",
        "\n",
        "import os\n",
        "import datetime\n",
        "from sklearn.model_selection import train_test_split\n",
        "import tensorflow as tf\n",
        "\n",
        "sys.path.append(\"Mean-Variance-Hedging/\")\n",
        "\n",
        "from numpy.random import default_rng\n",
        "from scipy.stats import norm\n",
        "from scipy.special import comb\n",
        "!rm -rf Mean-Variance-Hedging\n",
        "!git clone https://github.com/chrischia06/Mean-Variance-Hedging\n",
        "\n",
        "\n",
        "from mean_variance_hedge.dynamic_programming import *\n",
        "from mean_variance_hedge.black_scholes import *\n",
        "from mean_variance_hedge.utils import *\n",
        "\n",
        "plt.style.use(\"fivethirtyeight\")"
      ],
      "execution_count": null,
      "outputs": [
        {
          "output_type": "stream",
          "text": [
            "Cloning into 'Mean-Variance-Hedging'...\n",
            "remote: Enumerating objects: 75, done.\u001b[K\n",
            "remote: Counting objects: 100% (75/75), done.\u001b[K\n",
            "remote: Compressing objects: 100% (45/45), done.\u001b[K\n",
            "remote: Total 75 (delta 22), reused 67 (delta 18), pack-reused 0\u001b[K\n",
            "Unpacking objects: 100% (75/75), done.\n"
          ],
          "name": "stdout"
        }
      ]
    },
    {
      "cell_type": "markdown",
      "metadata": {
        "id": "5SrM03usEqoD"
      },
      "source": [
        "+ Assume that price paths evolve with iid log-returns from a  finite state space\n",
        "+ We use the same set of parameters as Cerny (2004)"
      ]
    },
    {
      "cell_type": "code",
      "metadata": {
        "colab": {
          "base_uri": "https://localhost:8080/"
        },
        "id": "EvMGD8-MEocf",
        "outputId": "43510c90-4247-43a2-843e-92d679d7b008"
      },
      "source": [
        "# discretised state space for log-returns\n",
        "log_ret_space = np.linspace(0.06, -0.06, 7) #log-returns\n",
        "scale_factor = 100 # scale so our \"tree/lattice\" has integer indices\n",
        "log_ret_space2 = [round(x * scale_factor) for x in log_ret_space]\n",
        "p_probs = np.array([0.013, 0.067, 0.273, 0.384, 0.199, 0.050, 0.014]) # physical probabilities\n",
        "ret_space = np.exp(log_ret_space) # returns\n",
        "N_STATES = len(log_ret_space)\n",
        "\n",
        "# rf = 1.00075 # risk free return\n",
        "rf = 1.00\n",
        "r = rf - 1\n",
        "\n",
        "print(f\"Log Rets: {log_ret_space}\")\n",
        "print(f\"P-probalities: {p_probs}\")\n",
        "\n",
        "excess_returns = np.dot(p_probs, (ret_space - rf))\n",
        "var_rets = np.dot(p_probs, (ret_space - rf) ** 2)\n",
        "\n",
        "print(f\"Excess Returns: {np.round(ret_space - rf, 3)}\") # excess returns\n",
        "print(f\"Mean Excess Return under P: {np.round(excess_returns, 3)}\")\n",
        "print(f\"Variance Returns under P: {var_rets}\")\n",
        "\n",
        "# variance optimal measure\n",
        "a, b, m, q_probs = calc_variance_optimal_measure(ret_space, rf, p_probs)\n",
        "print(a, b)\n",
        "print(np.round(q_probs, 3))"
      ],
      "execution_count": null,
      "outputs": [
        {
          "output_type": "stream",
          "text": [
            "Log Rets: [ 0.06  0.04  0.02  0.   -0.02 -0.04 -0.06]\n",
            "P-probalities: [0.013 0.067 0.273 0.384 0.199 0.05  0.014]\n",
            "Excess Returns: [ 0.062  0.041  0.02   0.    -0.02  -0.039 -0.058]\n",
            "Mean Excess Return under P: 0.002\n",
            "Variance Returns under P: 0.00047508734571246594\n",
            "4.918830695478636 0.9885053113595005\n",
            "[0.009 0.054 0.248 0.389 0.221 0.06  0.018]\n"
          ],
          "name": "stdout"
        }
      ]
    },
    {
      "cell_type": "markdown",
      "metadata": {
        "id": "wRCF-L_pPZdC"
      },
      "source": [
        "We calculate Mean-Value Process : $H_{t}$, which corresponds to do the ideal value of the mean-variance optimal portfolio to replicate the liability with payoff $H_{T}$, and the dynamic hedge quantities $\\theta^{D}_{t}$. These can be calculated iterarively, in reverse, for each node in the lattice via dynamic programming"
      ]
    },
    {
      "cell_type": "code",
      "metadata": {
        "id": "sfPDMaKgExMg"
      },
      "source": [
        "##################\n",
        "### PARAMETERS ###\n",
        "##################\n",
        "\n",
        "S0 = 100\n",
        "K_strike = 100\n",
        "# T = 6\n",
        "T = 30\n",
        "dt = 1/250\n",
        "CALL = 1\n",
        "\n",
        "attainable_nodes = possible_nodes(log_ret_space, T, scale_factor)\n",
        "Hts = calc_mean_value_process(attainable_nodes, S0, K_strike, rf, log_ret_space, T, scale_factor, q_probs)\n",
        "dynamic_delta = calc_dynamic_deltas(attainable_nodes, Hts, S0, rf, log_ret_space, T, scale_factor, q_probs)    "
      ],
      "execution_count": null,
      "outputs": []
    },
    {
      "cell_type": "markdown",
      "metadata": {
        "id": "e_RmCwUPPlf5"
      },
      "source": [
        "We compare the Dynamic Programming approach with the Black-Scholes delta. The Black-Scholes delta is only a perfect hedge in a continuous time setting with transaction costs"
      ]
    },
    {
      "cell_type": "code",
      "metadata": {
        "id": "-H5g8qQzEyj7"
      },
      "source": [
        "# terminal states\n",
        "BS_prices = {}\n",
        "\n",
        "bs_rf = np.log(rf)\n",
        "sigma = np.sqrt(np.sum(p_probs * (log_ret_space) ** 2) - np.sum(p_probs * log_ret_space) ** 2)    \n",
        "\n",
        "# terminal payoffs H_{T}\n",
        "BS_prices[T] = {}\n",
        "for x in attainable_nodes[T]:\n",
        "    St = S0 * np.exp(x / scale_factor)\n",
        "    BS_prices[T][x] = np.maximum(St - K_strike , 0)\n",
        "        \n",
        "for t in range(T - 1, -1, -1):\n",
        "  BS_prices[t] = {}\n",
        "  for x in attainable_nodes[t]:\n",
        "        St = S0 * np.exp(x / scale_factor)\n",
        "        BS_prices[t][x] = BlackScholes(St = St, K = K_strike, r = bs_rf, sigma = sigma, \n",
        "                                       tau = (T - t), flag = 1)\n",
        "\n",
        "\n",
        "bs_delta = {}\n",
        "for t in range(T - 1, -1, -1):\n",
        "  bs_delta[t] = {}\n",
        "  for x in attainable_nodes[t]:\n",
        "    St = S0 * np.exp(x / scale_factor)\n",
        "    bs_delta[t][x] = delta(St = St, K=K_strike, r =bs_rf, sigma = sigma, tau = (T - t), flag = 1)"
      ],
      "execution_count": null,
      "outputs": []
    },
    {
      "cell_type": "markdown",
      "metadata": {
        "id": "yAszXMc6LF-P"
      },
      "source": [
        "## Sample paths\n",
        "\n",
        "+ We generate `N_SAMPLES` paths by simulation from the lattice"
      ]
    },
    {
      "cell_type": "code",
      "metadata": {
        "colab": {
          "base_uri": "https://localhost:8080/",
          "height": 297
        },
        "id": "k22blUM9E0-U",
        "outputId": "3147b931-71c4-4658-80fa-00b4ce2ece02"
      },
      "source": [
        "%%time\n",
        "N_SAMPLES = 10 ** 5\n",
        "\n",
        "rng = default_rng(seed = 2021)\n",
        "# sample paths under P\n",
        "sample_log_rets = rng.choice(log_ret_space2,(N_SAMPLES, T),replace=True, p=p_probs)\n",
        "sample_paths = S0 * np.exp(np.cumsum(sample_log_rets / scale_factor,axis=1)) # 0.. T\n",
        "sample_log_rets = np.hstack([np.zeros(N_SAMPLES).reshape(-1, 1),  sample_log_rets])\n",
        "sample_paths = np.hstack([S0 + np.zeros(N_SAMPLES).reshape(-1, 1),  sample_paths]) # 0.. T\n",
        "\n",
        "# plot 500 paths\n",
        "plt.plot(np.arange(T + 1),sample_paths[:500,:].T);"
      ],
      "execution_count": null,
      "outputs": [
        {
          "output_type": "stream",
          "text": [
            "CPU times: user 640 ms, sys: 15.4 ms, total: 656 ms\n",
            "Wall time: 661 ms\n"
          ],
          "name": "stdout"
        },
        {
          "output_type": "display_data",
          "data": {
            "image/png": "[encoded data removed]",
            "text/plain": [
              "<Figure size 432x288 with 1 Axes>"
            ]
          },
          "metadata": {
            "tags": [],
            "needs_background": "light"
          }
        }
      ]
    },
    {
      "cell_type": "markdown",
      "metadata": {
        "id": "u9y9G_6qh3Hq"
      },
      "source": [
        "We calculate the portfolio value process $V_{t}$:\n",
        "\n",
        "$$ V_{t + 1} = \\text{rf} \\cdot V_{t} + \\delta_{\\text{strat}}(S_{t + 1} - (\\text{rf}) S_{t}) $$\n",
        "\n",
        "and evaluate the Mean-Squared Hedging Error of the strategies at time $T$\n",
        "$$ \\mathbb{E}[|V_{T} - H_{T}|^{2}]$$"
      ]
    },
    {
      "cell_type": "code",
      "metadata": {
        "id": "ApsGHoayFa4X"
      },
      "source": [
        "# %%time\n",
        "bs_deltas = np.zeros((N_SAMPLES, T))\n",
        "deltas = np.zeros((N_SAMPLES, T ))\n",
        "local_deltas = np.zeros((N_SAMPLES, T ))\n",
        "\n",
        "bs_vals = np.zeros((N_SAMPLES, T + 1))\n",
        "delta_vals = np.zeros((N_SAMPLES, T + 1)) \n",
        "local_vals = np.zeros((N_SAMPLES, T + 1))\n",
        "\n",
        "bs_vals[:,0] = Hts[0][0]\n",
        "delta_vals[:,0] = Hts[0][0]\n",
        "local_vals[:,0] = Hts[0][0]\n",
        "\n",
        "# black-scholes delta\n",
        "bs_deltas[:,0] = bs_delta[0][0]\n",
        "# dynamic programming delta\n",
        "deltas[:, 0] = dynamic_delta[0][0]\n",
        "# dynamic delta adjusted for current portfolio value V_t\n",
        "local_deltas[:, 0] = dynamic_delta[0][0]\n",
        "\n",
        "# calculate the hedging portfolio value\n",
        "# in the case of the dynamic programming approach, hedge is path-dependent\n",
        "for i in range(N_SAMPLES):\n",
        "  for t in range(1, T):\n",
        "    current_node = int(sum(sample_log_rets[i, :t + 1]))\n",
        "    delta_vals[i, t] = (rf * delta_vals[i, t - 1] + \n",
        "                        deltas[i, t - 1] * \n",
        "                        (sample_paths[i, t] - rf * sample_paths[i, t - 1]))\n",
        "    local_vals[i, t] = (rf * local_vals[i, t - 1] + \n",
        "                        local_deltas[i, t - 1] * \n",
        "                        (sample_paths[i, t] - rf * sample_paths[i, t - 1]))\n",
        "    bs_deltas[i, t] = bs_delta[t][current_node]\n",
        "    deltas[i, t] = dynamic_delta[t][current_node]\n",
        "    local_deltas[i, t] = (dynamic_delta[t][current_node] + \n",
        "                         rf * a * (Hts[t][current_node] - local_vals[i, t]) / sample_paths[i, t])\n",
        "    \n",
        "  local_vals[i, T] = (rf * local_vals[i, T - 1] + \n",
        "                      local_deltas[i, T - 1] * \n",
        "                      (sample_paths[i, T] - rf * sample_paths[i, T - 1]))\n",
        "  \n",
        "\n",
        "# tis = np.arange(T + 1) #0, 1 .. T\n",
        "# tis = np.tile(tis, N_SAMPLES).reshape(N_SAMPLES, T + 1) # [[0, 1.. T], [0, 1.. T]...]\n",
        "# for i in range(N_SAMPLES):\n",
        "#   bs_deltas[i, :] = delta(sample_paths[i, :-1], K_strike, r, sigma, (T - tis[i,:-1]), CALL) # BS deltas\n",
        "\n",
        "for t in range(1, T + 1):\n",
        "  bs_vals[:, t] = (rf * bs_vals[:, t - 1] + \n",
        "                     bs_deltas[:, t - 1] * (sample_paths[:, t] - rf * sample_paths[:, t - 1]))\n",
        "  delta_vals[:, t] = (rf * delta_vals[:, t - 1] + \n",
        "                      deltas[:, t - 1] * (sample_paths[:, t] - rf * sample_paths[:, t - 1]))\n",
        "  \n",
        "bs_terminal_error = bs_vals[:, T] - np.maximum(sample_paths[:, T] - K_strike, 0)  \n",
        "delta_terminal_error = delta_vals[:, T] - np.maximum(sample_paths[:, T] - K_strike, 0)\n",
        "local_terminal_error = local_vals[:, T] - np.maximum(sample_paths[:, T] - K_strike, 0)"
      ],
      "execution_count": null,
      "outputs": []
    },
    {
      "cell_type": "markdown",
      "metadata": {
        "id": "mT39nwsQLuzc"
      },
      "source": [
        "# Deep Hedging\n",
        "\n",
        "\n",
        "\n",
        "+ We create simulate another set of  paths, from the same lattice structure to use as training data for the Deep-Hedging model\n",
        "\n",
        "+"
      ]
    },
    {
      "cell_type": "code",
      "metadata": {
        "id": "jZfM12q0LjgA"
      },
      "source": [
        "from tensorflow.keras.layers import Input, Dense, LSTM, GRU, BatchNormalization, Dropout\n",
        "from tensorflow.keras import Model\n",
        "from tensorflow.keras.regularizers import l2\n",
        "from tensorflow.keras.optimizers import Adam\n",
        "from tensorflow.keras import initializers\n",
        "\n",
        "def deep_hedger(T, n_feats):\n",
        "    \"\"\"\n",
        "    Feed-Forward Neural Network\n",
        "    \"\"\"\n",
        "    input_layer = Input(shape = (None, n_feats))\n",
        "    # batch_norm = BatchNormalization()(input_layer)\n",
        "    layer_1 = GRU(64, activation='tanh', \n",
        "                      kernel_initializer=initializers.RandomNormal(0,0.1),\n",
        "                      bias_initializer=initializers.RandomNormal(0,0.1),\n",
        "                  return_sequences=True\n",
        "                  )(input_layer)\n",
        "    # layer_2 = Dense(16, activation='relu',\n",
        "    #                 kernel_initializer=initializers.RandomNormal())(batch_norm1)\n",
        "    # batch_norm2 = BatchNormalization()(layer_2)\n",
        "    # layer_3 = Dense(8, activation='relu', \n",
        "    #                 kernel_initializer = initializers.RandomNormal())(batch_norm2)\n",
        "    # batch_norm3 = BatchNormalization()(layer_3)\n",
        "    output_layer = Dense(1, activation='linear',\n",
        "                         kernel_initializer=initializers.RandomNormal(),\n",
        "                         bias_initializer=initializers.RandomNormal(0,0.1)\n",
        "                         )(layer_1)\n",
        "    model = Model(input_layer, output_layer)\n",
        "    return model"
      ],
      "execution_count": null,
      "outputs": []
    },
    {
      "cell_type": "code",
      "metadata": {
        "id": "EDtOgA4xH0IZ"
      },
      "source": [
        "def MSHE_Loss(init_price, strike, T):\n",
        "    def lossFunction(y_true,y_pred):\n",
        "      # for simplcity ignore rf for now, although this could be incorporated\n",
        "      price_changes = tf.experimental.numpy.diff(y_true, n=1, axis=1)\n",
        "      val = tf.reduce_sum(tf.math.multiply(price_changes, y_pred),axis=1)\n",
        "      # print(tf.shape(price_changes))     \n",
        "      # print(tf.shape(y_true)Z)\n",
        "      option_val = tf.math.maximum(y_true[:,-1] - strike, 0)\n",
        "\n",
        "      # val = (tf.math.reduce_sum(deltas * price_changes,axis=1))\n",
        "      return tf.math.reduce_mean(tf.math.square(-option_val + val + init_price))\n",
        "    return lossFunction\n",
        "\n",
        "def cvarLoss(init_price, strike, T, batch_size, proportion = 0.01):\n",
        "    num = int(batch_size * proportion)\n",
        "    def lossFunction(y_true,y_pred):\n",
        "      price_changes = tf.experimental.numpy.diff(y_true, n=1, axis=1)\n",
        "      val = tf.reduce_sum(tf.math.multiply(price_changes, y_pred),axis=1)      \n",
        "      option_val = tf.math.maximum(y_true[:,-1,:] - strike, 0)\n",
        "      # top k worse - net value\n",
        "      error = tf.reshape(-(-option_val + val + init_price), [-1])\n",
        "      CVaR, idx = tf.math.top_k(error, tf.constant(num, dtype=tf.int32))\n",
        "      # return tf.math.reduce_mean(CVaR)\n",
        "      return tf.math.reduce_mean(CVaR)\n",
        "    return lossFunction"
      ],
      "execution_count": null,
      "outputs": []
    },
    {
      "cell_type": "markdown",
      "metadata": {
        "id": "zJD3NoQZQEWV"
      },
      "source": [
        "Define training and test data"
      ]
    },
    {
      "cell_type": "code",
      "metadata": {
        "id": "VJ32AF4sKoRi"
      },
      "source": [
        "X_true = np.log(sample_paths[:,:-1] / K_strike)\n",
        "X_true = X_true.reshape((-1, T, 1))\n",
        "y_true = sample_paths.reshape((-1, T + 1, 1))\n",
        "\n",
        "\n",
        "N_TRAIN_PATHS = 10 ** 5\n",
        "rng2 = default_rng(seed = 42)\n",
        "training_log_rets = rng.choice(log_ret_space2,(N_TRAIN_PATHS, T),replace=True, p=p_probs)\n",
        "train_paths = S0 * np.exp(np.cumsum(training_log_rets / scale_factor,axis=1))\n",
        "train_paths = np.hstack([S0 + np.zeros(N_TRAIN_PATHS).reshape(-1, 1),  train_paths])\n",
        "X = np.log(train_paths / K_strike)\n",
        "\n",
        "n_feats = 1\n",
        "X2 = X[:, :-1].reshape((-1, T, n_feats))\n",
        "y2 = train_paths.reshape((-1, T + 1, n_feats))\n",
        "\n",
        "X_train, X_val, y_train, y_val = train_test_split(X2, y2, test_size=0.2, random_state = 42)"
      ],
      "execution_count": null,
      "outputs": []
    },
    {
      "cell_type": "code",
      "metadata": {
        "colab": {
          "base_uri": "https://localhost:8080/"
        },
        "id": "UjfW6f_3MlVJ",
        "outputId": "e336b3bd-add3-4b42-ac2e-692ff0644e51"
      },
      "source": [
        "tf.random.set_seed(2021) # set random seed for reproducibility\n",
        "\n",
        "######################\n",
        "### DNN PARAMETERS ###\n",
        "######################\n",
        "\n",
        "lr = 0.005\n",
        "BATCH_SIZE = 256\n",
        "EPOCHS = 50\n",
        "\n",
        "# logging and early stopping\n",
        "logdir = os.path.join(\"logs\", datetime.datetime.now().strftime(\"%Y%m%d-%H%M%S\"))\n",
        "tensorboard_callback = tf.keras.callbacks.TensorBoard(logdir, histogram_freq=1)\n",
        "early_stopping_callback =  tf.keras.callbacks.EarlyStopping(monitor='val_loss', patience=10)\n",
        "\n",
        "\n",
        "# Model trained on MSHE\n",
        "model = deep_hedger(T, n_feats)\n",
        "model.summary()\n",
        "print(\"Check Model\", model.predict(np.zeros((1, T, 1))).reshape(-1))\n",
        "\n",
        "mshe_loss = MSHE_Loss(init_price=Hts[0][0], strike=K_strike, T = T)\n",
        "model.compile(optimizer=Adam(learning_rate=lr), loss=mshe_loss)\n",
        "model.fit(X_train, y_train, epochs=EPOCHS, verbose=1, \n",
        "          batch_size=BATCH_SIZE, callbacks=[tensorboard_callback,early_stopping_callback],\n",
        "          validation_data=(X_val, y_val), shuffle=False)\n",
        "\n",
        "# Model trained on CVaR\n",
        "# cvar_loss = cvarLoss(init_price = Hts[0][0], strike = K_strike, T = T, batch_size = BATCH_SIZE, proportion = 0.01)\n",
        "\n",
        "# cvar_model = deep_hedger(T, n_feats)\n",
        "# cvar_model.compile(optimizer=Adam(learning_rate=lr), loss=cvar_loss)\n",
        "# cvar_model.fit(X_train, y_train, epochs=EPOCHS, verbose=1, \n",
        "#           batch_size=BATCH_SIZE, callbacks=[tensorboard_callback,early_stopping_callback],\n",
        "#           validation_data=(X_val, y_val), shuffle=False)\n"
      ],
      "execution_count": null,
      "outputs": [
        {
          "output_type": "stream",
          "text": [
            "Model: \"model_6\"\n",
            "_________________________________________________________________\n",
            "Layer (type)                 Output Shape              Param #   \n",
            "=================================================================\n",
            "input_7 (InputLayer)         [(None, None, 1)]         0         \n",
            "_________________________________________________________________\n",
            "gru_6 (GRU)                  (None, None, 64)          12864     \n",
            "_________________________________________________________________\n",
            "dense_6 (Dense)              (None, None, 1)           65        \n",
            "=================================================================\n",
            "Total params: 12,929\n",
            "Trainable params: 12,929\n",
            "Non-trainable params: 0\n",
            "_________________________________________________________________\n",
            "Check Model [-0.06002112 -0.06295123 -0.06532431 -0.06741942 -0.06917582 -0.07055762\n",
            " -0.07159068 -0.07233414 -0.07285407 -0.0732097  -0.07344861 -0.07360668\n",
            " -0.07370988 -0.07377638 -0.07381875 -0.07384543 -0.07386204 -0.07387224\n",
            " -0.07387842 -0.07388212 -0.0738843  -0.07388556 -0.07388628 -0.07388668\n",
            " -0.0738869  -0.073887   -0.07388704 -0.07388707 -0.07388708 -0.07388708]\n",
            "Epoch 1/50\n",
            "313/313 [==============================] - 19s 55ms/step - loss: 14.0457 - val_loss: 1.5570\n",
            "Epoch 2/50\n",
            "313/313 [==============================] - 17s 53ms/step - loss: 1.3466 - val_loss: 1.0260\n",
            "Epoch 3/50\n",
            "313/313 [==============================] - 17s 53ms/step - loss: 0.9624 - val_loss: 0.8729\n",
            "Epoch 4/50\n",
            "313/313 [==============================] - 17s 53ms/step - loss: 0.8238 - val_loss: 0.8033\n",
            "Epoch 5/50\n",
            "313/313 [==============================] - 17s 53ms/step - loss: 0.7595 - val_loss: 0.7624\n",
            "Epoch 6/50\n",
            "313/313 [==============================] - 17s 53ms/step - loss: 0.7187 - val_loss: 0.7162\n",
            "Epoch 7/50\n",
            "313/313 [==============================] - 17s 53ms/step - loss: 0.6873 - val_loss: 0.6737\n",
            "Epoch 8/50\n",
            "313/313 [==============================] - 17s 53ms/step - loss: 0.6623 - val_loss: 0.6403\n",
            "Epoch 9/50\n",
            "313/313 [==============================] - 17s 53ms/step - loss: 0.6433 - val_loss: 0.6222\n",
            "Epoch 10/50\n",
            "313/313 [==============================] - 17s 53ms/step - loss: 0.6285 - val_loss: 0.6127\n",
            "Epoch 11/50\n",
            "313/313 [==============================] - 17s 53ms/step - loss: 0.6172 - val_loss: 0.6068\n",
            "Epoch 12/50\n",
            "313/313 [==============================] - 17s 54ms/step - loss: 0.6092 - val_loss: 0.6025\n",
            "Epoch 13/50\n",
            "313/313 [==============================] - 17s 54ms/step - loss: 0.6029 - val_loss: 0.5990\n",
            "Epoch 14/50\n",
            "313/313 [==============================] - 17s 54ms/step - loss: 0.5977 - val_loss: 0.5958\n",
            "Epoch 15/50\n",
            "313/313 [==============================] - 17s 53ms/step - loss: 0.5932 - val_loss: 0.5926\n",
            "Epoch 16/50\n",
            "313/313 [==============================] - 17s 53ms/step - loss: 0.5892 - val_loss: 0.5893\n",
            "Epoch 17/50\n",
            "313/313 [==============================] - 17s 53ms/step - loss: 0.5857 - val_loss: 0.5860\n",
            "Epoch 18/50\n",
            "313/313 [==============================] - 17s 53ms/step - loss: 0.5825 - val_loss: 0.5830\n",
            "Epoch 19/50\n",
            "313/313 [==============================] - 17s 54ms/step - loss: 0.5797 - val_loss: 0.5804\n",
            "Epoch 20/50\n",
            "313/313 [==============================] - 17s 53ms/step - loss: 0.5772 - val_loss: 0.5780\n",
            "Epoch 21/50\n",
            "313/313 [==============================] - 17s 53ms/step - loss: 0.5749 - val_loss: 0.5760\n",
            "Epoch 22/50\n",
            "313/313 [==============================] - 17s 53ms/step - loss: 0.5728 - val_loss: 0.5742\n",
            "Epoch 23/50\n",
            "313/313 [==============================] - 17s 53ms/step - loss: 0.5708 - val_loss: 0.5727\n",
            "Epoch 24/50\n",
            "313/313 [==============================] - 17s 53ms/step - loss: 0.5690 - val_loss: 0.5713\n",
            "Epoch 25/50\n",
            "313/313 [==============================] - 17s 53ms/step - loss: 0.5672 - val_loss: 0.5701\n",
            "Epoch 26/50\n",
            "313/313 [==============================] - 17s 53ms/step - loss: 0.5655 - val_loss: 0.5690\n",
            "Epoch 27/50\n",
            "313/313 [==============================] - 17s 53ms/step - loss: 0.5639 - val_loss: 0.5680\n",
            "Epoch 28/50\n",
            "313/313 [==============================] - 17s 53ms/step - loss: 0.5623 - val_loss: 0.5672\n",
            "Epoch 29/50\n",
            "313/313 [==============================] - 17s 53ms/step - loss: 0.5608 - val_loss: 0.5664\n",
            "Epoch 30/50\n",
            "313/313 [==============================] - 16s 53ms/step - loss: 0.5593 - val_loss: 0.5658\n",
            "Epoch 31/50\n",
            "313/313 [==============================] - 17s 53ms/step - loss: 0.5580 - val_loss: 0.5653\n",
            "Epoch 32/50\n",
            "313/313 [==============================] - 16s 52ms/step - loss: 0.5566 - val_loss: 0.5649\n",
            "Epoch 33/50\n",
            "313/313 [==============================] - 16s 52ms/step - loss: 0.5553 - val_loss: 0.5646\n",
            "Epoch 34/50\n",
            "313/313 [==============================] - 16s 53ms/step - loss: 0.5540 - val_loss: 0.5645\n",
            "Epoch 35/50\n",
            "313/313 [==============================] - 17s 53ms/step - loss: 0.5528 - val_loss: 0.5645\n",
            "Epoch 36/50\n",
            "313/313 [==============================] - 17s 53ms/step - loss: 0.5516 - val_loss: 0.5646\n",
            "Epoch 37/50\n",
            "313/313 [==============================] - 16s 53ms/step - loss: 0.5504 - val_loss: 0.5650\n",
            "Epoch 38/50\n",
            "313/313 [==============================] - 16s 53ms/step - loss: 0.5493 - val_loss: 0.5658\n",
            "Epoch 39/50\n",
            "313/313 [==============================] - 16s 52ms/step - loss: 0.5481 - val_loss: 0.5666\n",
            "Epoch 40/50\n",
            "313/313 [==============================] - 16s 53ms/step - loss: 0.5469 - val_loss: 0.5655\n",
            "Epoch 41/50\n",
            "313/313 [==============================] - 17s 53ms/step - loss: 0.5457 - val_loss: 0.5626\n",
            "Epoch 42/50\n",
            "313/313 [==============================] - 17s 53ms/step - loss: 0.5444 - val_loss: 0.5597\n",
            "Epoch 43/50\n",
            "313/313 [==============================] - 17s 53ms/step - loss: 0.5430 - val_loss: 0.5676\n",
            "Epoch 44/50\n",
            "313/313 [==============================] - 17s 53ms/step - loss: 0.5425 - val_loss: 0.5640\n",
            "Epoch 45/50\n",
            "313/313 [==============================] - 17s 53ms/step - loss: 0.5454 - val_loss: 0.6073\n",
            "Epoch 46/50\n",
            "313/313 [==============================] - 16s 53ms/step - loss: 0.5568 - val_loss: 0.5584\n",
            "Epoch 47/50\n",
            "313/313 [==============================] - 16s 52ms/step - loss: 0.5413 - val_loss: 0.5604\n",
            "Epoch 48/50\n",
            "313/313 [==============================] - 16s 52ms/step - loss: 0.5406 - val_loss: 0.5594\n",
            "Epoch 49/50\n",
            "313/313 [==============================] - 16s 52ms/step - loss: 0.5371 - val_loss: 0.5556\n",
            "Epoch 50/50\n",
            "313/313 [==============================] - 16s 52ms/step - loss: 0.5372 - val_loss: 0.5543\n"
          ],
          "name": "stdout"
        },
        {
          "output_type": "execute_result",
          "data": {
            "text/plain": [
              "<tensorflow.python.keras.callbacks.History at 0x7f9b9ef10810>"
            ]
          },
          "metadata": {
            "tags": []
          },
          "execution_count": 115
        }
      ]
    },
    {
      "cell_type": "code",
      "metadata": {
        "id": "heiMMGQnf1XK",
        "colab": {
          "base_uri": "https://localhost:8080/"
        },
        "outputId": "5e27e6e5-f32e-4fb6-e921-cd0b2f0de70c"
      },
      "source": [
        "%%time\n",
        "deep_hedge_deltas = np.zeros((N_SAMPLES, T))\n",
        "# deep_cvar_hedge_deltas = np.zeros((N_SAMPLES, T))\n",
        "\n",
        "for i in range(T):\n",
        "  temp= model.predict(X_true[:,:(i + 1),:], batch_size=512)\n",
        "  deep_hedge_deltas[:,i] =  temp.reshape(-1, i + 1)[:,i]\n",
        "  # temp2 = cvar_model.predict(X_true[:,:(i + 1),:], batch_size=512)\n",
        "  # deep_cvar_hedge_deltas[:, i] = temp2.reshape(-1, i + 1)[:,i]"
      ],
      "execution_count": null,
      "outputs": [
        {
          "output_type": "stream",
          "text": [
            "CPU times: user 2min 24s, sys: 8.91 s, total: 2min 33s\n",
            "Wall time: 1min 31s\n"
          ],
          "name": "stdout"
        }
      ]
    },
    {
      "cell_type": "code",
      "metadata": {
        "colab": {
          "base_uri": "https://localhost:8080/"
        },
        "id": "2gl9kY_lkNwA",
        "outputId": "472142bd-6e6a-499c-987b-69e5a2bc3e0f"
      },
      "source": [
        "%%time\n",
        "# deep_hedge_deltas2 = model.predict(X2, batch_size=128)\n",
        "\n",
        "## MSHE Deep Hedger\n",
        "deep_vals = np.zeros((N_SAMPLES, T + 1))\n",
        "deep_vals[:,0] = Hts[0][0]\n",
        "\n",
        "## CVar Deep Hedger\n",
        "# deep_cvar_vals = np.zeros((N_SAMPLES, T + 1))\n",
        "# deep_cvar_vals[:,0] = Hts[0][0]\n",
        "\n",
        "\n",
        "for t in range(1, T + 1):\n",
        "    deep_vals[:, t] = rf * deep_vals[:, t - 1] + deep_hedge_deltas[:, t - 1] * (sample_paths[:, t] - rf * sample_paths[:, t - 1]) \n",
        "    # deep_cvar_vals[:, t] = rf * deep_cvar_vals[:, t - 1] + deep_cvar_hedge_deltas[:, t - 1] * (sample_paths[:, t] - rf * sample_paths[:, t - 1])\n",
        "  \n",
        "\n",
        "deep_terminal_error = deep_vals[:, T] - np.maximum(sample_paths[:, T] - K_strike, 0)\n",
        "# deep_cvar_terminal_error = deep_cvar_vals[:, T] - np.maximum(sample_paths[:, T] - K_strike, 0)\n",
        "  "
      ],
      "execution_count": null,
      "outputs": [
        {
          "output_type": "stream",
          "text": [
            "CPU times: user 182 ms, sys: 1.78 ms, total: 184 ms\n",
            "Wall time: 186 ms\n"
          ],
          "name": "stdout"
        }
      ]
    },
    {
      "cell_type": "markdown",
      "metadata": {
        "id": "pTuC8nqpNE7I"
      },
      "source": [
        "# Evaluation\n",
        "\n",
        "+ Notes - very architecture dependent.  Random weight initialisation and the internal RNN state means that result will vary every time we recalibrate the model\n",
        "+ Might depend on training / sample size as well"
      ]
    },
    {
      "cell_type": "code",
      "metadata": {
        "colab": {
          "base_uri": "https://localhost:8080/",
          "height": 383
        },
        "id": "pxCfgMxPnxoz",
        "outputId": "e48dc879-02a4-4580-b143-75861024efd8"
      },
      "source": [
        "hedging_errors = [bs_terminal_error, delta_terminal_error, local_terminal_error,\n",
        "                  deep_terminal_error] #, deep_cvar_terminal_error]\n",
        "\n",
        "hedging_errors2 = [diagnosis(error) for error in hedging_errors]\n",
        "results = pd.concat(hedging_errors2)\n",
        "\n",
        "titles = [\"BS-delta\", \"Local Hedge\", \"Dynamic Hedge\", ] + [\"Deep-Hedger\"]#, \"Deep-CVaR-Hedger\"]\n",
        "results.index = titles\n",
        "display(results)\n",
        "\n",
        "\n",
        "plot_titles = [title +\" error\" for title in titles]\n",
        "fig, ax = plt.subplots(ncols= len(titles), figsize=(len(titles) * 6, 5))\n",
        "for i in range(len(titles)):\n",
        "  sns.histplot(hedging_errors[i], ax=ax[i]).set_title(plot_titles[i]) "
      ],
      "execution_count": null,
      "outputs": [
        {
          "output_type": "display_data",
          "data": {
            "text/html": [
              "<div>\n",
              "<style scoped>\n",
              "    .dataframe tbody tr th:only-of-type {\n",
              "        vertical-align: middle;\n",
              "    }\n",
              "\n",
              "    .dataframe tbody tr th {\n",
              "        vertical-align: top;\n",
              "    }\n",
              "\n",
              "    .dataframe thead th {\n",
              "        text-align: right;\n",
              "    }\n",
              "</style>\n",
              "<table border=\"1\" class=\"dataframe\">\n",
              "  <thead>\n",
              "    <tr style=\"text-align: right;\">\n",
              "      <th></th>\n",
              "      <th>MSHE</th>\n",
              "      <th>CVar 1%</th>\n",
              "      <th>CVaR 5%</th>\n",
              "      <th>CVar 10%</th>\n",
              "      <th>CVaR 50%</th>\n",
              "    </tr>\n",
              "  </thead>\n",
              "  <tbody>\n",
              "    <tr>\n",
              "      <th>BS-delta</th>\n",
              "      <td>0.597286</td>\n",
              "      <td>2.657331</td>\n",
              "      <td>1.850045</td>\n",
              "      <td>1.497005</td>\n",
              "      <td>0.652096</td>\n",
              "    </tr>\n",
              "    <tr>\n",
              "      <th>Local Hedge</th>\n",
              "      <td>0.616136</td>\n",
              "      <td>2.703191</td>\n",
              "      <td>1.892651</td>\n",
              "      <td>1.540386</td>\n",
              "      <td>0.699768</td>\n",
              "    </tr>\n",
              "    <tr>\n",
              "      <th>Dynamic Hedge</th>\n",
              "      <td>0.548533</td>\n",
              "      <td>2.890243</td>\n",
              "      <td>1.877210</td>\n",
              "      <td>1.460282</td>\n",
              "      <td>0.608718</td>\n",
              "    </tr>\n",
              "    <tr>\n",
              "      <th>Deep-Hedger</th>\n",
              "      <td>0.572591</td>\n",
              "      <td>3.014344</td>\n",
              "      <td>1.891262</td>\n",
              "      <td>1.448645</td>\n",
              "      <td>0.524646</td>\n",
              "    </tr>\n",
              "  </tbody>\n",
              "</table>\n",
              "</div>"
            ],
            "text/plain": [
              "                   MSHE   CVar 1%   CVaR 5%  CVar 10%  CVaR 50%\n",
              "BS-delta       0.597286  2.657331  1.850045  1.497005  0.652096\n",
              "Local Hedge    0.616136  2.703191  1.892651  1.540386  0.699768\n",
              "Dynamic Hedge  0.548533  2.890243  1.877210  1.460282  0.608718\n",
              "Deep-Hedger    0.572591  3.014344  1.891262  1.448645  0.524646"
            ]
          },
          "metadata": {
            "tags": []
          }
        },
        {
          "output_type": "display_data",
          "data": {
            "image/png": "[encoded data removed]",
            "text/plain": [
              "<Figure size 1728x360 with 4 Axes>"
            ]
          },
          "metadata": {
            "tags": [],
            "needs_background": "light"
          }
        }
      ]
    },
    {
      "cell_type": "code",
      "metadata": {
        "colab": {
          "base_uri": "https://localhost:8080/"
        },
        "id": "OeszuwzjrzoU",
        "outputId": "c7d3b2a7-60c1-45f2-9ada-fa04930d4bde"
      },
      "source": [
        "print(results.to_latex())"
      ],
      "execution_count": null,
      "outputs": [
        {
          "output_type": "stream",
          "text": [
            "\\begin{tabular}{lrrrrr}\n",
            "\\toprule\n",
            "{} &      MSHE &   CVar 1\\% &   CVaR 5\\% &  CVar 10\\% &  CVaR 50\\% \\\\\n",
            "\\midrule\n",
            "BS-delta      &  0.597286 &  2.657331 &  1.850045 &  1.497005 &  0.652096 \\\\\n",
            "Local Hedge   &  0.616136 &  2.703191 &  1.892651 &  1.540386 &  0.699768 \\\\\n",
            "Dynamic Hedge &  0.548533 &  2.890243 &  1.877210 &  1.460282 &  0.608718 \\\\\n",
            "Deep-Hedger   &  0.572591 &  3.014344 &  1.891262 &  1.448645 &  0.524646 \\\\\n",
            "\\bottomrule\n",
            "\\end{tabular}\n",
            "\n"
          ],
          "name": "stdout"
        }
      ]
    },
    {
      "cell_type": "markdown",
      "metadata": {
        "id": "OOgZlEmJizEZ"
      },
      "source": [
        "What is the neural network doing?"
      ]
    },
    {
      "cell_type": "code",
      "metadata": {
        "colab": {
          "base_uri": "https://localhost:8080/",
          "height": 297
        },
        "id": "dm27bUJ7iyFu",
        "outputId": "2f6aa463-bb05-4f1a-fd20-358abcbedd12"
      },
      "source": [
        "i = np.random.randint(N_SAMPLES)\n",
        "print(i)\n",
        "fig, ax = plt.subplots()\n",
        "plt.plot(np.arange(0, T + 1),  sample_paths[i,:].T)\n",
        "ax2 = ax.twinx()\n",
        "ax2.plot(np.arange(0, T), deep_hedge_deltas[i,:].T, c='orange')\n",
        "ax.axhline(K_strike,linestyle=\"--\", c='red')"
      ],
      "execution_count": null,
      "outputs": [
        {
          "output_type": "stream",
          "text": [
            "43309\n"
          ],
          "name": "stdout"
        },
        {
          "output_type": "execute_result",
          "data": {
            "text/plain": [
              "<matplotlib.lines.Line2D at 0x7f9b95057a50>"
            ]
          },
          "metadata": {
            "tags": []
          },
          "execution_count": 28
        },
        {
          "output_type": "display_data",
          "data": {
            "image/png": "[encoded data removed]",
            "text/plain": [
              "<Figure size 432x288 with 2 Axes>"
            ]
          },
          "metadata": {
            "tags": [],
            "needs_background": "light"
          }
        }
      ]
    },
    {
      "cell_type": "markdown",
      "metadata": {
        "id": "MWI_yyMlNN7m"
      },
      "source": [
        "Check that the Mean-Variance Loss Function for the Deep Neural Network is close the calculated value"
      ]
    },
    {
      "cell_type": "code",
      "metadata": {
        "id": "ohJlW4YmNNQc",
        "colab": {
          "base_uri": "https://localhost:8080/"
        },
        "outputId": "d19ae9e8-57ce-4b75-ab98-5d158a66396b"
      },
      "source": [
        "test_loss = customLoss()\n",
        "test_loss(y_true, bs_deltas.reshape(-1, 6, 1))"
      ],
      "execution_count": null,
      "outputs": [
        {
          "output_type": "execute_result",
          "data": {
            "text/plain": [
              "<tf.Tensor: shape=(), dtype=float64, numpy=0.6068282727047436>"
            ]
          },
          "metadata": {
            "tags": []
          },
          "execution_count": 120
        }
      ]
    },
    {
      "cell_type": "code",
      "metadata": {
        "colab": {
          "base_uri": "https://localhost:8080/"
        },
        "id": "eT-cPtgoNT-1",
        "outputId": "24583d52-efc9-450b-efe3-7e5c70a425dc"
      },
      "source": [
        "test_loss(y_true, local_deltas.reshape(-1, 6, 1))"
      ],
      "execution_count": null,
      "outputs": [
        {
          "output_type": "execute_result",
          "data": {
            "text/plain": [
              "<tf.Tensor: shape=(), dtype=float64, numpy=0.606398617187597>"
            ]
          },
          "metadata": {
            "tags": []
          },
          "execution_count": 121
        }
      ]
    },
    {
      "cell_type": "markdown",
      "metadata": {
        "id": "wD9dTZLNg7fF"
      },
      "source": [
        "Implementation from Teichmann, J., website:\n",
        "\n",
        "Return to later as quite difficult to understand\n",
        "\n",
        "+ https://nbviewer.jupyter.org/url/people.math.ethz.ch/~jteichma/lecture_ml_web/deep_hedging_keras_bsanalysis.ipynb\n",
        "\n",
        "+ https://nbviewer.jupyter.org/urls/people.math.ethz.ch/~jteichma/lecture_ml_web/lecture_3.ipynb"
      ]
    },
    {
      "cell_type": "code",
      "metadata": {
        "id": "ocWsJyf9NFwY"
      },
      "source": [
        "import numpy as np\n",
        "import tensorflow as tf\n",
        "\n",
        "from keras.models import Sequential\n",
        "from keras.layers import Input, Dense, Conv2D, Concatenate, Dropout, Subtract, \\\n",
        "                        Flatten, MaxPooling2D, Multiply, Lambda, Add, Dot\n",
        "from keras.backend import constant\n",
        "from keras import optimizers\n",
        "\n",
        "from keras.engine.topology import Layer\n",
        "from keras.models import Model\n",
        "from keras.layers import Input\n",
        "from keras import initializers\n",
        "from keras.constraints import max_norm\n",
        "import keras.backend as K\n",
        "\n",
        "import matplotlib.pyplot as plt"
      ],
      "execution_count": null,
      "outputs": []
    },
    {
      "cell_type": "code",
      "metadata": {
        "id": "7kC2PlEXUalS"
      },
      "source": [
        "T = 6\n",
        "N = N"
      ],
      "execution_count": null,
      "outputs": []
    },
    {
      "cell_type": "code",
      "metadata": {
        "id": "IBKVwWJhNSyw"
      },
      "source": [
        "#Definition of neural networks for heding strategies\n",
        "\n",
        "m = 1 # dimension of price\n",
        "d = 3 # number of layers in strategy\n",
        "n = 8  # nodes in the first but last layers\n",
        "\n",
        "# architecture is the same for all networks\n",
        "layers = []\n",
        "for j in range(N):\n",
        "    for i in range(d):\n",
        "        if i < d-1:\n",
        "            nodes = n\n",
        "            layer = Dense(nodes, activation='tanh',trainable=True,\n",
        "                      kernel_initializer=initializers.RandomNormal(0,1),#kernel_initializer='random_normal',\n",
        "                      bias_initializer='random_normal',\n",
        "                      name=str(i)+str(j))\n",
        "        else:\n",
        "            nodes = m\n",
        "            layer = Dense(nodes, activation='linear', trainable=True,\n",
        "                          kernel_initializer=initializers.RandomNormal(0,0.1),#kernel_initializer='random_normal',\n",
        "                          bias_initializer='random_normal',\n",
        "                          name=str(i)+str(j))\n",
        "        layers = layers + [layer]"
      ],
      "execution_count": null,
      "outputs": []
    },
    {
      "cell_type": "code",
      "metadata": {
        "id": "RTgijreMNUXy"
      },
      "source": [
        "#Implementing the loss function\n",
        "# Inputs is the training set below, containing the price S0, \n",
        "#the initial hedging being 0, and the increments of the log price process \n",
        "price = Input(shape=(m,))\n",
        "hedge = Input(shape=(m,))\n",
        "hedgeeval = Input(shape=(m,))\n",
        "premium = Input(shape=(m,))\n",
        "\n",
        "inputs = [price]+[hedge]+[hedgeeval]+[premium]\n",
        "outputhelper=[]\n",
        "\n",
        "premium = Dense(m, activation='linear', trainable=True,\n",
        "                kernel_initializer=initializers.RandomNormal(0,1),#kernel_initializer='random_normal',\n",
        "                bias_initializer=initializers.RandomNormal(0,1))(premium)\n",
        "\n",
        "for j in range(N):\n",
        "    strategy = price\n",
        "    strategyeval=hedgeeval\n",
        "    for k in range(d):\n",
        "        strategy= layers[k+(j)*d](strategy) # strategy at j is the hedging strategy at j , i.e. the neural network g_j\n",
        "        strategyeval=layers[k+(j)*d](strategyeval)\n",
        "    incr = Input(shape=(m,))\n",
        "    logprice= Lambda(lambda x : K.log(x))(price)\n",
        "    logprice = Add()([logprice, incr])\n",
        "    pricenew=Lambda(lambda x : K.exp(x))(logprice)# creating the price at time j+1\n",
        "    priceincr=Subtract()([pricenew, price])\n",
        "    hedgenew = Multiply()([strategy, priceincr])\n",
        "    #mult = Lambda(lambda x : K.sum(x,axis=1))(mult) # this is only used for m > 1\n",
        "    hedge = Add()([hedge,hedgenew]) # building up the discretized stochastic integral\n",
        "    inputs = inputs + [incr]\n",
        "    outputhelper = outputhelper + [strategyeval]\n",
        "    price=pricenew\n",
        "payoff= Lambda(lambda x : 0.5*(K.abs(x-K_strike)+x-K_strike))(price) \n",
        "outputs = Subtract()([payoff,hedge]) \n",
        "outputs = Subtract()([outputs,premium]) # payoff minus price minus hedge \n",
        "outputs= [outputs] + outputhelper +[premium]\n",
        "outputs = Concatenate()(outputs)\n",
        "\n",
        "model_hedge_strat = Model(inputs=inputs, outputs=outputs)"
      ],
      "execution_count": null,
      "outputs": []
    },
    {
      "cell_type": "code",
      "metadata": {
        "id": "JIgnfd1GR5kp"
      },
      "source": [
        "initialprice = S0\n",
        "\n",
        "# xtrain consists of the price S0, \n",
        "#the initial hedging being 0, and the increments of the log price process \n",
        "xtrain = ([initialprice*np.ones((N_SAMPLES,m))] +\n",
        "          [np.zeros((N_SAMPLES,m))]+\n",
        "          [np.ones((N_SAMPLES,m))] +\n",
        "          [BS_prices[0][0]*np.ones((N_SAMPLES,m))]+\n",
        "          [(sample_log_rets[:,i] / 100).reshape(-1, 1) for i in range(N)])\n",
        "\n",
        "ytrain=np.zeros((N_SAMPLES,1+T))\n"
      ],
      "execution_count": null,
      "outputs": []
    },
    {
      "cell_type": "code",
      "metadata": {
        "id": "XrHlHYK3SX7F"
      },
      "source": [
        "from keras import losses\n",
        "def custom_loss(y_true,y_pred):\n",
        "    #return losses.mean_squared_error(y_true[0], y_pred[0])\n",
        "    z = y_pred[:,0]-y_true[:,0]\n",
        "    z=K.mean(K.square(z))\n",
        "    return z\n"
      ],
      "execution_count": null,
      "outputs": []
    },
    {
      "cell_type": "code",
      "metadata": {
        "colab": {
          "base_uri": "https://localhost:8080/"
        },
        "id": "8TT_IpzfSahK",
        "outputId": "437a2d4d-10c7-48f8-fd2e-5c64be9559fb"
      },
      "source": [
        "model_hedge_strat.compile(optimizer='adam',loss=custom_loss)\n",
        "model_hedge_strat.fit(x=xtrain,y=ytrain, epochs=1,verbose=True)"
      ],
      "execution_count": null,
      "outputs": [
        {
          "output_type": "stream",
          "text": [
            "3125/3125 [==============================] - 7s 2ms/step - loss: 3.9857\n"
          ],
          "name": "stdout"
        },
        {
          "output_type": "execute_result",
          "data": {
            "text/plain": [
              "<tensorflow.python.keras.callbacks.History at 0x7f2ed9ff4a50>"
            ]
          },
          "metadata": {
            "tags": []
          },
          "execution_count": 308
        }
      ]
    },
    {
      "cell_type": "code",
      "metadata": {
        "id": "tUwwXGXKPxws"
      },
      "source": [
        "pred = model_hedge_strat.predict(xtrain)"
      ],
      "execution_count": null,
      "outputs": []
    }
  ]
}